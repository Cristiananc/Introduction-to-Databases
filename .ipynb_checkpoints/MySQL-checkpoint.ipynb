{
 "cells": [
  {
   "cell_type": "code",
   "execution_count": 1,
   "metadata": {},
   "outputs": [],
   "source": [
    "import os\n",
    "import sys\n",
    "import time\n",
    "import datetime\n",
    "#import numpy as np\n",
    "import pathlib\n",
    "import getpass\n",
    "import pandas as pd\n",
    "\n",
    "import pymysql"
   ]
  },
  {
   "cell_type": "code",
   "execution_count": 2,
   "metadata": {},
   "outputs": [
    {
     "name": "stdout",
     "output_type": "stream",
     "text": [
      "········\n"
     ]
    }
   ],
   "source": [
    "p = getpass.getpass()\n",
    "conn = pymysql.connect(host='localhost', port=3306, user='admin', passwd = p) #passwd=password, db='mysql')\n",
    "cur = conn.cursor()"
   ]
  },
  {
   "cell_type": "code",
   "execution_count": 3,
   "metadata": {},
   "outputs": [
    {
     "name": "stdout",
     "output_type": "stream",
     "text": [
      "('information_schema',)\n",
      "('mysql',)\n",
      "('performance_schema',)\n",
      "('producao_desperdicio_comida',)\n"
     ]
    }
   ],
   "source": [
    "cur.execute(\"show databases;\")\n",
    "for r in cur.fetchall():\n",
    "   print(r)"
   ]
  },
  {
   "cell_type": "code",
   "execution_count": 4,
   "metadata": {},
   "outputs": [
    {
     "name": "stdout",
     "output_type": "stream",
     "text": [
      "('ano_perda',)\n",
      "('ano_producao',)\n",
      "('categoria',)\n",
      "('item',)\n",
      "('item_pais',)\n",
      "('pais',)\n",
      "('perda',)\n",
      "('producao',)\n",
      "('regiao',)\n"
     ]
    }
   ],
   "source": [
    "cur.execute(\"use producao_desperdicio_comida;\")\n",
    "cur.execute(\"show tables;\")\n",
    "for r in cur.fetchall():\n",
    "   print(r)"
   ]
  },
  {
   "cell_type": "code",
   "execution_count": 5,
   "metadata": {},
   "outputs": [],
   "source": [
    "categorias = [('Frutas'),\n",
    "('Verduras e Legumes'),\n",
    "('Carnes'),\n",
    "('Cereais e Grãos')]"
   ]
  },
  {
   "cell_type": "code",
   "execution_count": 6,
   "metadata": {},
   "outputs": [],
   "source": [
    "insertCategoriasSQL = \"INSERT INTO categoria (nome) VALUES (%s)\"\n",
    "cur = conn.cursor()\n",
    "cur.executemany(insertCategoriasSQL, categorias)\n",
    "\n",
    "conn.commit()"
   ]
  },
  {
   "cell_type": "code",
   "execution_count": 7,
   "metadata": {},
   "outputs": [
    {
     "name": "stdout",
     "output_type": "stream",
     "text": [
      "(1, 'Frutas')\n",
      "(2, 'Verduras e Legumes')\n",
      "(3, 'Carnes')\n",
      "(4, 'Cereais e Grãos')\n"
     ]
    }
   ],
   "source": [
    "cur.execute(\"SELECT * FROM categoria;\")\n",
    "for r in cur.fetchall():\n",
    "   print(r)"
   ]
  },
  {
   "cell_type": "code",
   "execution_count": 8,
   "metadata": {},
   "outputs": [
    {
     "name": "stdout",
     "output_type": "stream",
     "text": [
      "('id', 'int(11)', 'NO', 'PRI', None, '')\n",
      "('nome', 'varchar(100)', 'NO', '', None, '')\n",
      "('categoria_id1', 'int(11)', 'NO', 'PRI', None, '')\n"
     ]
    }
   ],
   "source": [
    "cur.execute(\"SHOW COLUMNS FROM item;\")\n",
    "for r in cur.fetchall():\n",
    "   print(r)"
   ]
  },
  {
   "cell_type": "code",
   "execution_count": 1,
   "metadata": {},
   "outputs": [],
   "source": [
    "#df = pd.read_csv('Dados_desperdicio.csv', sep='|')"
   ]
  },
  {
   "cell_type": "code",
   "execution_count": 9,
   "metadata": {},
   "outputs": [],
   "source": [
    "itens = [(1, 'Trigo e produtos', 4),\n",
    " (2, 'Arroz e produtos', 4),\n",
    " (3, 'Cevada e produtos', 4),\n",
    " (4, 'Milho e produtos', 4),\n",
    " (5, 'Centeio e produtos', 4),\n",
    " (6, 'Aveia', 4),\n",
    " (7, 'Sorgo e produtos', 4),\n",
    " (8, 'Feijão', 4),\n",
    " (9, 'Ervilhas', 4),\n",
    " (10, 'Nozes e produtos', 4),\n",
    " (11, 'Grãos de Soja', 4),\n",
    " (12, 'Amendoim (Eq sem casca)', 4),\n",
    " (13, 'Café e produtos', 4),\n",
    " (14, 'Grãos de cacau e produtos', 4),\n",
    " (15, 'Cereais e outros', 4),\n",
    " (16, 'Mandioca e produtos', 2),\n",
    " (17, 'Batatas e produtos', 2),\n",
    " (18, 'Batatas doces', 2),\n",
    " (19, 'Inhame', 2),\n",
    " (20, 'Tomates e produtos', 2),\n",
    " (21, 'Legumes e outros', 2),\n",
    " (22, 'Laranjas e Tangerinas', 1),\n",
    " (23, 'Limões, limas e produtos', 1),\n",
    " (24, 'Toranja e produtos', 1),\n",
    " (25, 'Citrus e outros', 1),\n",
    " (26, 'Bananas', 1),\n",
    " (27, 'Banana da Terra', 1),\n",
    " (28, 'Maçãs e produtos', 1),\n",
    " (29, 'Abacaxi e produtos', 1),\n",
    " (30, 'Uvas e produtos (excluindo vinho)', 1),\n",
    " (31, 'Frutas e outros', 1),\n",
    " (32, 'Carne bovina', 3),\n",
    " (33, 'Carne de carneiro e cabra', 3),\n",
    " (34, 'Carne de Porco', 3),\n",
    " (35, 'Carne de Aves', 3),\n",
    " (36, 'Carne e outros', 3)]"
   ]
  },
  {
   "cell_type": "code",
   "execution_count": 11,
   "metadata": {},
   "outputs": [],
   "source": [
    "insertItemSQL = \"INSERT INTO item (id, nome, categoria_id1) VALUES (%s, %s, %s)\"\n",
    "cur = conn.cursor()\n",
    "cur.executemany(insertItemSQL, itens)\n",
    "\n",
    "conn.commit()"
   ]
  },
  {
   "cell_type": "code",
   "execution_count": 12,
   "metadata": {},
   "outputs": [
    {
     "name": "stdout",
     "output_type": "stream",
     "text": [
      "(1, 'Trigo e produtos', 4)\n",
      "(2, 'Arroz e produtos', 4)\n",
      "(3, 'Cevada e produtos', 4)\n",
      "(4, 'Milho e produtos', 4)\n",
      "(5, 'Centeio e produtos', 4)\n",
      "(6, 'Aveia', 4)\n",
      "(7, 'Sorgo e produtos', 4)\n",
      "(8, 'Feijão', 4)\n",
      "(9, 'Ervilhas', 4)\n",
      "(10, 'Nozes e produtos', 4)\n",
      "(11, 'Grãos de Soja', 4)\n",
      "(12, 'Amendoim (Eq sem casca)', 4)\n",
      "(13, 'Café e produtos', 4)\n",
      "(14, 'Grãos de cacau e produtos', 4)\n",
      "(15, 'Cereais e outros', 4)\n",
      "(16, 'Mandioca e produtos', 2)\n",
      "(17, 'Batatas e produtos', 2)\n",
      "(18, 'Batatas doces', 2)\n",
      "(19, 'Inhame', 2)\n",
      "(20, 'Tomates e produtos', 2)\n",
      "(21, 'Legumes e outros', 2)\n",
      "(22, 'Laranjas e Tangerinas', 1)\n",
      "(23, 'Limões, limas e produtos', 1)\n",
      "(24, 'Toranja e produtos', 1)\n",
      "(25, 'Citrus e outros', 1)\n",
      "(26, 'Bananas', 1)\n",
      "(27, 'Banana da Terra', 1)\n",
      "(28, 'Maçãs e produtos', 1)\n",
      "(29, 'Abacaxi e produtos', 1)\n",
      "(30, 'Uvas e produtos (excluindo vinho)', 1)\n",
      "(31, 'Frutas e outros', 1)\n",
      "(32, 'Carne bovina', 3)\n",
      "(33, 'Carne de carneiro e cabra', 3)\n",
      "(34, 'Carne de Porco', 3)\n",
      "(35, 'Carne de Aves', 3)\n",
      "(36, 'Carne e outros', 3)\n"
     ]
    }
   ],
   "source": [
    "cur.execute(\"SELECT * FROM item;\")\n",
    "for r in cur.fetchall():\n",
    "   print(r)"
   ]
  },
  {
   "cell_type": "code",
   "execution_count": 13,
   "metadata": {},
   "outputs": [],
   "source": [
    "regiao = [(1, 'América do Sul'), (2, 'América Central'), (3, 'América do Norte')]\n",
    "insertRegiaoSQL = \"INSERT INTO regiao (id, nome) VALUES (%s, %s)\"\n",
    "cur = conn.cursor()\n",
    "cur.executemany(insertRegiaoSQL, regiao)\n",
    "\n",
    "conn.commit()"
   ]
  },
  {
   "cell_type": "code",
   "execution_count": 15,
   "metadata": {},
   "outputs": [],
   "source": [
    "anos = [(1, 1998),\n",
    " (2, 1999),\n",
    " (3, 2000),\n",
    " (4, 2001),\n",
    " (5, 2002),\n",
    " (6, 2003),\n",
    " (7, 2004),\n",
    " (8, 2005),\n",
    " (9, 2006),\n",
    " (10, 2007),\n",
    " (11, 2008),\n",
    " (12, 2009),\n",
    " (13, 2010),\n",
    " (14, 2011),\n",
    " (15, 2012),\n",
    " (16, 2013),\n",
    " (17, 2014),\n",
    " (18, 2015),\n",
    " (19, 2016),\n",
    " (20, 2017)]"
   ]
  },
  {
   "cell_type": "code",
   "execution_count": 16,
   "metadata": {},
   "outputs": [],
   "source": [
    "insertAnosSQL = \"INSERT INTO ano_perda (id, ano) VALUES (%s, %s)\"\n",
    "cur = conn.cursor()\n",
    "cur.executemany(insertAnosSQL, anos)\n",
    "\n",
    "conn.commit()"
   ]
  },
  {
   "cell_type": "code",
   "execution_count": 17,
   "metadata": {},
   "outputs": [],
   "source": [
    "insertAnosProducaoSQL = \"INSERT INTO ano_producao (id, ano) VALUES (%s, %s)\"\n",
    "cur = conn.cursor()\n",
    "cur.executemany(insertAnosProducaoSQL, anos)\n",
    "\n",
    "conn.commit()"
   ]
  },
  {
   "cell_type": "code",
   "execution_count": 18,
   "metadata": {},
   "outputs": [],
   "source": [
    "paises = [(1, 'Argentina', 1),\n",
    " (2, 'Bolívia', 1),\n",
    " (3, 'Brasil', 1),\n",
    " (4, 'Chile', 1),\n",
    " (5, 'Colômbia', 1),\n",
    " (6, 'Costa Rica', 2),\n",
    " (7, 'Cuba', 2),\n",
    " (8, 'República Dominicana', 2),\n",
    " (9, 'Equador', 1),\n",
    " (10, 'El salvador', 2),\n",
    " (11, 'Guatemala', 2),\n",
    " (12, 'Haiti', 2),\n",
    " (13, 'Honduras', 2),\n",
    " (14, 'México', 3),\n",
    " (15, 'Nicarágua', 2 ),\n",
    " (16, 'Panamá', 2),\n",
    " (17, 'Paraguai', 1),\n",
    " (18, 'Peru', 1),\n",
    " (19, 'Uruguai', 1),\n",
    " (20, 'Venezuela', 1)]"
   ]
  },
  {
   "cell_type": "code",
   "execution_count": 20,
   "metadata": {},
   "outputs": [],
   "source": [
    "insertPaisesSQL = \"INSERT INTO pais (id_pais, nome, regiao_id1) VALUES (%s, %s, %s)\"\n",
    "cur = conn.cursor()\n",
    "cur.executemany(insertPaisesSQL, paises)\n",
    "\n",
    "conn.commit()"
   ]
  },
  {
   "cell_type": "code",
   "execution_count": null,
   "metadata": {},
   "outputs": [],
   "source": []
  },
  {
   "cell_type": "code",
   "execution_count": null,
   "metadata": {},
   "outputs": [],
   "source": []
  }
 ],
 "metadata": {
  "kernelspec": {
   "display_name": "Python 3",
   "language": "python",
   "name": "python3"
  },
  "language_info": {
   "codemirror_mode": {
    "name": "ipython",
    "version": 3
   },
   "file_extension": ".py",
   "mimetype": "text/x-python",
   "name": "python",
   "nbconvert_exporter": "python",
   "pygments_lexer": "ipython3",
   "version": "3.6.9"
  }
 },
 "nbformat": 4,
 "nbformat_minor": 4
}

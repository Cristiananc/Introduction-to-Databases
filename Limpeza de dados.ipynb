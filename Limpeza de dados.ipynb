{
 "cells": [
  {
   "cell_type": "code",
   "execution_count": 12,
   "metadata": {},
   "outputs": [],
   "source": [
    "import pandas as pd\n",
    "import string as stri "
   ]
  },
  {
   "cell_type": "code",
   "execution_count": 13,
   "metadata": {},
   "outputs": [],
   "source": [
    "df = pd.read_csv(\"Dados_desperdicio.csv\",delimiter =';')"
   ]
  },
  {
   "cell_type": "code",
   "execution_count": 14,
   "metadata": {},
   "outputs": [
    {
     "data": {
      "text/html": [
       "<div>\n",
       "<style scoped>\n",
       "    .dataframe tbody tr th:only-of-type {\n",
       "        vertical-align: middle;\n",
       "    }\n",
       "\n",
       "    .dataframe tbody tr th {\n",
       "        vertical-align: top;\n",
       "    }\n",
       "\n",
       "    .dataframe thead th {\n",
       "        text-align: right;\n",
       "    }\n",
       "</style>\n",
       "<table border=\"1\" class=\"dataframe\">\n",
       "  <thead>\n",
       "    <tr style=\"text-align: right;\">\n",
       "      <th></th>\n",
       "      <th>Domain Code</th>\n",
       "      <th>Domain</th>\n",
       "      <th>Area Code</th>\n",
       "      <th>Area</th>\n",
       "      <th>Element Code</th>\n",
       "      <th>Element</th>\n",
       "      <th>Item Code</th>\n",
       "      <th>Item</th>\n",
       "      <th>Year Code</th>\n",
       "      <th>Year</th>\n",
       "      <th>Unit</th>\n",
       "      <th>Value</th>\n",
       "      <th>Flag</th>\n",
       "      <th>Flag Description</th>\n",
       "    </tr>\n",
       "  </thead>\n",
       "  <tbody>\n",
       "    <tr>\n",
       "      <th>0</th>\n",
       "      <td>FBSH</td>\n",
       "      <td>Food Balances (old methodology and population)</td>\n",
       "      <td>9</td>\n",
       "      <td>Argentina</td>\n",
       "      <td>5123</td>\n",
       "      <td>Losses</td>\n",
       "      <td>2511</td>\n",
       "      <td>Wheat and products</td>\n",
       "      <td>1998</td>\n",
       "      <td>1998</td>\n",
       "      <td>1000 tonnes</td>\n",
       "      <td>561</td>\n",
       "      <td>S</td>\n",
       "      <td>Standardized data</td>\n",
       "    </tr>\n",
       "    <tr>\n",
       "      <th>1</th>\n",
       "      <td>FBSH</td>\n",
       "      <td>Food Balances (old methodology and population)</td>\n",
       "      <td>9</td>\n",
       "      <td>Argentina</td>\n",
       "      <td>5123</td>\n",
       "      <td>Losses</td>\n",
       "      <td>2511</td>\n",
       "      <td>Wheat and products</td>\n",
       "      <td>1999</td>\n",
       "      <td>1999</td>\n",
       "      <td>1000 tonnes</td>\n",
       "      <td>538</td>\n",
       "      <td>S</td>\n",
       "      <td>Standardized data</td>\n",
       "    </tr>\n",
       "    <tr>\n",
       "      <th>2</th>\n",
       "      <td>FBSH</td>\n",
       "      <td>Food Balances (old methodology and population)</td>\n",
       "      <td>9</td>\n",
       "      <td>Argentina</td>\n",
       "      <td>5123</td>\n",
       "      <td>Losses</td>\n",
       "      <td>2511</td>\n",
       "      <td>Wheat and products</td>\n",
       "      <td>2000</td>\n",
       "      <td>2000</td>\n",
       "      <td>1000 tonnes</td>\n",
       "      <td>537</td>\n",
       "      <td>S</td>\n",
       "      <td>Standardized data</td>\n",
       "    </tr>\n",
       "    <tr>\n",
       "      <th>3</th>\n",
       "      <td>FBSH</td>\n",
       "      <td>Food Balances (old methodology and population)</td>\n",
       "      <td>9</td>\n",
       "      <td>Argentina</td>\n",
       "      <td>5123</td>\n",
       "      <td>Losses</td>\n",
       "      <td>2511</td>\n",
       "      <td>Wheat and products</td>\n",
       "      <td>2001</td>\n",
       "      <td>2001</td>\n",
       "      <td>1000 tonnes</td>\n",
       "      <td>521</td>\n",
       "      <td>S</td>\n",
       "      <td>Standardized data</td>\n",
       "    </tr>\n",
       "    <tr>\n",
       "      <th>4</th>\n",
       "      <td>FBSH</td>\n",
       "      <td>Food Balances (old methodology and population)</td>\n",
       "      <td>9</td>\n",
       "      <td>Argentina</td>\n",
       "      <td>5123</td>\n",
       "      <td>Losses</td>\n",
       "      <td>2511</td>\n",
       "      <td>Wheat and products</td>\n",
       "      <td>2002</td>\n",
       "      <td>2002</td>\n",
       "      <td>1000 tonnes</td>\n",
       "      <td>482</td>\n",
       "      <td>S</td>\n",
       "      <td>Standardized data</td>\n",
       "    </tr>\n",
       "    <tr>\n",
       "      <th>...</th>\n",
       "      <td>...</td>\n",
       "      <td>...</td>\n",
       "      <td>...</td>\n",
       "      <td>...</td>\n",
       "      <td>...</td>\n",
       "      <td>...</td>\n",
       "      <td>...</td>\n",
       "      <td>...</td>\n",
       "      <td>...</td>\n",
       "      <td>...</td>\n",
       "      <td>...</td>\n",
       "      <td>...</td>\n",
       "      <td>...</td>\n",
       "      <td>...</td>\n",
       "    </tr>\n",
       "    <tr>\n",
       "      <th>205</th>\n",
       "      <td>FBSH</td>\n",
       "      <td>Food Balances (old methodology and population)</td>\n",
       "      <td>9</td>\n",
       "      <td>Argentina</td>\n",
       "      <td>5123</td>\n",
       "      <td>Losses</td>\n",
       "      <td>2518</td>\n",
       "      <td>Sorghum and products</td>\n",
       "      <td>2011</td>\n",
       "      <td>2011</td>\n",
       "      <td>1000 tonnes</td>\n",
       "      <td>89</td>\n",
       "      <td>S</td>\n",
       "      <td>Standardized data</td>\n",
       "    </tr>\n",
       "    <tr>\n",
       "      <th>206</th>\n",
       "      <td>FBSH</td>\n",
       "      <td>Food Balances (old methodology and population)</td>\n",
       "      <td>9</td>\n",
       "      <td>Argentina</td>\n",
       "      <td>5123</td>\n",
       "      <td>Losses</td>\n",
       "      <td>2518</td>\n",
       "      <td>Sorghum and products</td>\n",
       "      <td>2012</td>\n",
       "      <td>2012</td>\n",
       "      <td>1000 tonnes</td>\n",
       "      <td>85</td>\n",
       "      <td>S</td>\n",
       "      <td>Standardized data</td>\n",
       "    </tr>\n",
       "    <tr>\n",
       "      <th>207</th>\n",
       "      <td>FBSH</td>\n",
       "      <td>Food Balances (old methodology and population)</td>\n",
       "      <td>9</td>\n",
       "      <td>Argentina</td>\n",
       "      <td>5123</td>\n",
       "      <td>Losses</td>\n",
       "      <td>2518</td>\n",
       "      <td>Sorghum and products</td>\n",
       "      <td>2013</td>\n",
       "      <td>2013</td>\n",
       "      <td>1000 tonnes</td>\n",
       "      <td>73</td>\n",
       "      <td>S</td>\n",
       "      <td>Standardized data</td>\n",
       "    </tr>\n",
       "    <tr>\n",
       "      <th>208</th>\n",
       "      <td>FBSH</td>\n",
       "      <td>Food Balances (old methodology and population)</td>\n",
       "      <td>9</td>\n",
       "      <td>Argentina</td>\n",
       "      <td>5123</td>\n",
       "      <td>Losses</td>\n",
       "      <td>2520</td>\n",
       "      <td>Cereals, Other</td>\n",
       "      <td>1998</td>\n",
       "      <td>1998</td>\n",
       "      <td>1000 tonnes</td>\n",
       "      <td>1</td>\n",
       "      <td>S</td>\n",
       "      <td>Standardized data</td>\n",
       "    </tr>\n",
       "    <tr>\n",
       "      <th>209</th>\n",
       "      <td>FBSH</td>\n",
       "      <td>Food Balances (old methodology and population)</td>\n",
       "      <td>9</td>\n",
       "      <td>Argentina</td>\n",
       "      <td>5123</td>\n",
       "      <td>Losses</td>\n",
       "      <td>2520</td>\n",
       "      <td>Cereals, Other</td>\n",
       "      <td>1999</td>\n",
       "      <td>1999</td>\n",
       "      <td>1000 tonnes</td>\n",
       "      <td>1</td>\n",
       "      <td>S</td>\n",
       "      <td>Standardized data</td>\n",
       "    </tr>\n",
       "  </tbody>\n",
       "</table>\n",
       "<p>210 rows × 14 columns</p>\n",
       "</div>"
      ],
      "text/plain": [
       "    Domain Code                                          Domain  Area Code  \\\n",
       "0          FBSH  Food Balances (old methodology and population)          9   \n",
       "1          FBSH  Food Balances (old methodology and population)          9   \n",
       "2          FBSH  Food Balances (old methodology and population)          9   \n",
       "3          FBSH  Food Balances (old methodology and population)          9   \n",
       "4          FBSH  Food Balances (old methodology and population)          9   \n",
       "..          ...                                             ...        ...   \n",
       "205        FBSH  Food Balances (old methodology and population)          9   \n",
       "206        FBSH  Food Balances (old methodology and population)          9   \n",
       "207        FBSH  Food Balances (old methodology and population)          9   \n",
       "208        FBSH  Food Balances (old methodology and population)          9   \n",
       "209        FBSH  Food Balances (old methodology and population)          9   \n",
       "\n",
       "          Area  Element Code Element  Item Code                  Item  \\\n",
       "0    Argentina          5123  Losses       2511    Wheat and products   \n",
       "1    Argentina          5123  Losses       2511    Wheat and products   \n",
       "2    Argentina          5123  Losses       2511    Wheat and products   \n",
       "3    Argentina          5123  Losses       2511    Wheat and products   \n",
       "4    Argentina          5123  Losses       2511    Wheat and products   \n",
       "..         ...           ...     ...        ...                   ...   \n",
       "205  Argentina          5123  Losses       2518  Sorghum and products   \n",
       "206  Argentina          5123  Losses       2518  Sorghum and products   \n",
       "207  Argentina          5123  Losses       2518  Sorghum and products   \n",
       "208  Argentina          5123  Losses       2520        Cereals, Other   \n",
       "209  Argentina          5123  Losses       2520        Cereals, Other   \n",
       "\n",
       "     Year Code  Year         Unit  Value Flag   Flag Description  \n",
       "0         1998  1998  1000 tonnes    561    S  Standardized data  \n",
       "1         1999  1999  1000 tonnes    538    S  Standardized data  \n",
       "2         2000  2000  1000 tonnes    537    S  Standardized data  \n",
       "3         2001  2001  1000 tonnes    521    S  Standardized data  \n",
       "4         2002  2002  1000 tonnes    482    S  Standardized data  \n",
       "..         ...   ...          ...    ...  ...                ...  \n",
       "205       2011  2011  1000 tonnes     89    S  Standardized data  \n",
       "206       2012  2012  1000 tonnes     85    S  Standardized data  \n",
       "207       2013  2013  1000 tonnes     73    S  Standardized data  \n",
       "208       1998  1998  1000 tonnes      1    S  Standardized data  \n",
       "209       1999  1999  1000 tonnes      1    S  Standardized data  \n",
       "\n",
       "[210 rows x 14 columns]"
      ]
     },
     "execution_count": 14,
     "metadata": {},
     "output_type": "execute_result"
    }
   ],
   "source": [
    "df.head(210)"
   ]
  },
  {
   "cell_type": "code",
   "execution_count": 8,
   "metadata": {},
   "outputs": [],
   "source": [
    "data=[cadu for cadu in range(1998,2019)]\n",
    "ide=0\n",
    "for cadu in range(21):\n",
    "    ide+=1\n",
    "    data[cadu]=(ide,data[cadu])"
   ]
  },
  {
   "cell_type": "code",
   "execution_count": 100,
   "metadata": {},
   "outputs": [],
   "source": [
    "data_id_dict={}\n",
    "for cadu in range(len(data)):\n",
    "    data_id_dict[data[cadu][1]]=data[cadu][0]"
   ]
  },
  {
   "cell_type": "code",
   "execution_count": 15,
   "metadata": {},
   "outputs": [],
   "source": [
    "Categorias ={1: 'Frutas', 2: 'Verduras e Legumes', 3: 'Carnes',4: 'Cereais e Grãos'}\n",
    "#Categorias = [(1, 'Frutas'), (2, 'Verduras e Legumes'), (3, 'Carnes') ,(4, 'Cereais e Grãos')]"
   ]
  },
  {
   "cell_type": "code",
   "execution_count": 90,
   "metadata": {},
   "outputs": [],
   "source": [
    "Alimentos='Trigo e produtos; Arroz e produtos; Cevada e produtos; Milho e produtos; Centeio e produtos; Aveia; Sorgo e produtos; Feijão; Ervilhas; Nozes e produtos; Grãos de Soja; Amendoim (Eq sem casca); Café e produtos; Grãos de cacau e produtos; Cereais e outros; Mandioca e produtos; Batatas e produtos; Batatas doces; Inhame; Tomates e produtos; Legumes e outros; Laranjas e Tangerinas; Limões, limas e produtos; Toranja e produtos; Citrus e outros; Bananas; Banana da Terra; Maçãs e produtos; Abacaxi e produtos; Uvas e produtos (excluindo vinho); Frutas e outros; Carne bovina; Carne de carneiro e cabra; Carne de Porco; Carne de Aves; Carne e outros'\n",
    "alimentos=Alimentos.split(\"; \")\n",
    "alimentos_aux=Alimentos.split(\"; \")\n",
    "alimentos_dict1=Alimentos.split(\"; \")\n"
   ]
  },
  {
   "cell_type": "code",
   "execution_count": 91,
   "metadata": {},
   "outputs": [],
   "source": [
    "ide=0\n",
    "for cadu in range(15):\n",
    "    id+=1\n",
    "    alimentos[cadu]=(ide,alimentos[cadu],4)\n",
    "for cadu in range(15,21):\n",
    "    id+=1\n",
    "    alimentos[cadu]=(ide,alimentos[cadu],2)\n",
    "for cadu in range(21,31):\n",
    "    id+=1\n",
    "    alimentos[cadu]=(ide,alimentos[cadu],1)\n",
    "for cadu in range(31,len(alimentos)):\n",
    "    id+=1\n",
    "    alimentos[cadu]=(ide,alimentos[cadu],3)"
   ]
  },
  {
   "cell_type": "code",
   "execution_count": 92,
   "metadata": {},
   "outputs": [],
   "source": [
    "Item=alimentos"
   ]
  },
  {
   "cell_type": "code",
   "execution_count": 18,
   "metadata": {},
   "outputs": [],
   "source": [
    "Paises=('Argentina, Bolívia, Brasil, Chile, Colômbia, Costa Rica, Cuba, República Dominicana, Equador, El salvador, Guatemala, Haiti, Honduras, México, Nicarágua, Panamá, Paraguai, Peru, Uruguai, Venezuela')\n",
    "paises=Paises.split(\", \")"
   ]
  },
  {
   "cell_type": "code",
   "execution_count": 48,
   "metadata": {},
   "outputs": [],
   "source": [
    "paises_id=[]\n",
    "for cadu in range(len(paises)):\n",
    "    paises_id.append((cadu+1,paises[cadu]))"
   ]
  },
  {
   "cell_type": "code",
   "execution_count": 85,
   "metadata": {},
   "outputs": [],
   "source": [
    "paises_id_dict={}\n",
    "for cadu in range(len(paises_id)):\n",
    "    paises_id_dict[paises_id[cadu][1]]=paises_id[cadu][0]\n",
    "\n"
   ]
  },
  {
   "cell_type": "code",
   "execution_count": 95,
   "metadata": {},
   "outputs": [],
   "source": [
    "dicionario_alimentos_id={}\n",
    "ide=0\n",
    "for cadu in range(len(alimentos_aux)):\n",
    "    id+=1\n",
    "    dicionario_alimentos_id[alimentos_aux[cadu]]=ide"
   ]
  },
  {
   "cell_type": "code",
   "execution_count": 27,
   "metadata": {},
   "outputs": [],
   "source": [
    "item_ingles= [df['Item'][cadu] for cadu in range(len(df['Item']))]"
   ]
  },
  {
   "cell_type": "code",
   "execution_count": 50,
   "metadata": {},
   "outputs": [],
   "source": [
    "item_ingles1=[]\n",
    "for cadu in item_ingles: \n",
    "    if not cadu in item_ingles1:\n",
    "        item_ingles1.append(cadu)"
   ]
  },
  {
   "cell_type": "code",
   "execution_count": 134,
   "metadata": {},
   "outputs": [],
   "source": [
    "DicionarioI= {'Wheat and products':'Trigo e produtos',\n",
    "'Rice and products':'Arroz e produtos',\n",
    " 'Barley and products': 'Cevada e produtos',\n",
    " 'Maize and products': 'Milho e produtos',\n",
    " 'Rye and products': 'Centeio e produtos',\n",
    " 'Oats': 'Aveia',\n",
    " 'Sorghum and products': 'Sorgo e produtos',\n",
    " 'Cereals, Other':'Cereais e outros',\n",
    " 'Cassava and products':'Mandioca e produtos',\n",
    " 'Potatoes and products':'Batatas e produtos',\n",
    " 'Sweet potatoes': 'Batatas doces',\n",
    " 'Beans': 'Feijão',\n",
    " 'Peas':'Ervilhas',\n",
    " 'Nuts and products': 'Nozes e produtos',\n",
    " 'Soyabeans': 'Grãos de Soja',\n",
    " 'Groundnuts (Shelled Eq)': 'Amendoim (Eq sem casca)',\n",
    " 'Tomatoes and products':'Tomates e produtos',\n",
    " 'Vegetables, Other':'Vegetais, Outros',\n",
    " 'Oranges, Mandarines':'Laranjas, Mandarinas',\n",
    " 'Lemons, Limes and products':'Limões, Limas e produtos',\n",
    " 'Grapefruit and products':'Toranja e produtos',\n",
    " 'Bananas': 'Bananas',\n",
    " 'Plantains': 'Banana da terra',\n",
    " 'Apples and products':'Maças e produtos',\n",
    " 'Pineapples and products':'Abacaxis e produtos',\n",
    " 'Grapes and products (excl wine)': 'Uvas e produtos (excluindo vinho)',\n",
    " 'Fruits, Other':'Frutas e outros',\n",
    " 'Coffee and products': 'Café e produtos',\n",
    " 'Cocoa Beans and products': 'Grãos de cacau e produtos',\n",
    " 'Bovine Meat':'Carne bovina',\n",
    " 'Mutton & Goat Meat':'Carne de carneiro e cabra',\n",
    " 'Pigmeat':'Carne de porco',\n",
    " 'Poultry Meat':'Carne de frango',\n",
    " 'Meat, Other':'Carne e outros',\n",
    " 'Citrus, Other': 'Citrus e outros',\n",
    " 'Yams':'Inhame'}"
   ]
  },
  {
   "cell_type": "code",
   "execution_count": 71,
   "metadata": {},
   "outputs": [],
   "source": [
    "DicionarioP = {'Argentina':'Argentina','Bolivia':'Bolívia','Brazil':'Brasil','Chile':'Chile','Colombia':'Colômbia','Costa Rica':'Costa Rica','Cuba':'Cuba','Dominican Republic':'República Dominicana','Ecuador':'Equador','El salvador':'El salvador','Guatemala':'Guatemala','Haiti':'Haiti','Honduras':'Honduras','Mexico':'México','Nicaragua':'Nicarágua','Panama':'Panamá','Paraguay':'Paraguai','Peru':'Peru','Uruguay':'Uruguai','Venezuela':'Venezuela'}"
   ]
  },
  {
   "cell_type": "code",
   "execution_count": 96,
   "metadata": {},
   "outputs": [],
   "source": [
    "ide=0\n",
    "item_pais=[]\n",
    "for cadu in range(5):\n",
    "    ide+=1\n",
    "    item_pais.append((ide, dicionario_alimentos_id[DicionarioI[df.Item[cadu]]],paises_id_dict[DicionarioP[df.Area[cadu]]])) \n"
   ]
  },
  {
   "cell_type": "code",
   "execution_count": 97,
   "metadata": {},
   "outputs": [
    {
     "data": {
      "text/plain": [
       "[(1, 0, 1), (2, 0, 1), (3, 0, 1), (4, 0, 1), (5, 0, 1)]"
      ]
     },
     "execution_count": 97,
     "metadata": {},
     "output_type": "execute_result"
    }
   ],
   "source": [
    "item_pais"
   ]
  },
  {
   "cell_type": "code",
   "execution_count": 78,
   "metadata": {},
   "outputs": [
    {
     "ename": "NameError",
     "evalue": "name 'my_list' is not defined",
     "output_type": "error",
     "traceback": [
      "\u001b[1;31m---------------------------------------------------------------------------\u001b[0m",
      "\u001b[1;31mNameError\u001b[0m                                 Traceback (most recent call last)",
      "\u001b[1;32m<ipython-input-78-49ac050cb947>\u001b[0m in \u001b[0;36m<module>\u001b[1;34m\u001b[0m\n\u001b[0;32m      1\u001b[0m \u001b[1;32mwith\u001b[0m \u001b[0mopen\u001b[0m\u001b[1;33m(\u001b[0m\u001b[1;34m'your_file.txt'\u001b[0m\u001b[1;33m,\u001b[0m \u001b[1;34m'w'\u001b[0m\u001b[1;33m)\u001b[0m \u001b[1;32mas\u001b[0m \u001b[0mf\u001b[0m\u001b[1;33m:\u001b[0m\u001b[1;33m\u001b[0m\u001b[1;33m\u001b[0m\u001b[0m\n\u001b[1;32m----> 2\u001b[1;33m     \u001b[1;32mfor\u001b[0m \u001b[0mitem\u001b[0m \u001b[1;32min\u001b[0m \u001b[0mmy_list\u001b[0m\u001b[1;33m:\u001b[0m\u001b[1;33m\u001b[0m\u001b[1;33m\u001b[0m\u001b[0m\n\u001b[0m\u001b[0;32m      3\u001b[0m         \u001b[0mf\u001b[0m\u001b[1;33m.\u001b[0m\u001b[0mwrite\u001b[0m\u001b[1;33m(\u001b[0m\u001b[1;34m\"%s\\n\"\u001b[0m \u001b[1;33m%\u001b[0m \u001b[0mitem\u001b[0m\u001b[1;33m)\u001b[0m\u001b[1;33m\u001b[0m\u001b[1;33m\u001b[0m\u001b[0m\n\u001b[0;32m      4\u001b[0m \u001b[1;33m\u001b[0m\u001b[0m\n",
      "\u001b[1;31mNameError\u001b[0m: name 'my_list' is not defined"
     ]
    }
   ],
   "source": [
    "with open('your_file.txt', 'w') as f:\n",
    "    for item in my_list:\n",
    "        f.write(\"%s\\n\" % item)\n",
    "        "
   ]
  },
  {
   "cell_type": "code",
   "execution_count": 118,
   "metadata": {},
   "outputs": [],
   "source": [
    "data_perda=[]\n",
    "ide=0\n",
    "for cadu in range(len(df)):\n",
    "    if df['Element'][cadu] == 'Losses':\n",
    "        ide+=1\n",
    "        data_perda.append((ide, data_id_dict[df['Year Code'][cadu]] ))"
   ]
  },
  {
   "cell_type": "code",
   "execution_count": 129,
   "metadata": {},
   "outputs": [
    {
     "data": {
      "text/plain": [
       "[(1, 'Trigo e produtos', 4),\n",
       " (2, 'Arroz e produtos', 4),\n",
       " (3, 'Cevada e produtos', 4),\n",
       " (4, 'Milho e produtos', 4),\n",
       " (5, 'Centeio e produtos', 4),\n",
       " (6, 'Aveia', 4),\n",
       " (7, 'Sorgo e produtos', 4),\n",
       " (8, 'Feijão', 4),\n",
       " (9, 'Ervilhas', 4),\n",
       " (10, 'Nozes e produtos', 4),\n",
       " (11, 'Grãos de Soja', 4),\n",
       " (12, 'Amendoim (Eq sem casca)', 4),\n",
       " (13, 'Café e produtos', 4),\n",
       " (14, 'Grãos de cacau e produtos', 4),\n",
       " (15, 'Cereais e outros', 4),\n",
       " (16, 'Mandioca e produtos', 2),\n",
       " (17, 'Batatas e produtos', 2),\n",
       " (18, 'Batatas doces', 2),\n",
       " (19, 'Inhame', 2),\n",
       " (20, 'Tomates e produtos', 2),\n",
       " (21, 'Legumes e outros', 2),\n",
       " (22, 'Laranjas e Tangerinas', 1),\n",
       " (23, 'Limões, limas e produtos', 1),\n",
       " (24, 'Toranja e produtos', 1),\n",
       " (25, 'Citrus e outros', 1),\n",
       " (26, 'Bananas', 1),\n",
       " (27, 'Banana da Terra', 1),\n",
       " (28, 'Maçãs e produtos', 1),\n",
       " (29, 'Abacaxi e produtos', 1),\n",
       " (30, 'Uvas e produtos (excluindo vinho)', 1),\n",
       " (31, 'Frutas e outros', 1),\n",
       " (32, 'Carne bovina', 3),\n",
       " (33, 'Carne de carneiro e cabra', 3),\n",
       " (34, 'Carne de Porco', 3),\n",
       " (35, 'Carne de Aves', 3),\n",
       " (36, 'Carne e outros', 3)]"
      ]
     },
     "execution_count": 129,
     "metadata": {},
     "output_type": "execute_result"
    }
   ],
   "source": [
    "Item"
   ]
  },
  {
   "cell_type": "code",
   "execution_count": 133,
   "metadata": {},
   "outputs": [
    {
     "data": {
      "text/plain": [
       "36"
      ]
     },
     "execution_count": 133,
     "metadata": {},
     "output_type": "execute_result"
    }
   ],
   "source": [
    "len(Dicionario)"
   ]
  },
  {
   "cell_type": "code",
   "execution_count": null,
   "metadata": {},
   "outputs": [],
   "source": []
  }
 ],
 "metadata": {
  "kernelspec": {
   "display_name": "Python 3",
   "language": "python",
   "name": "python3"
  },
  "language_info": {
   "codemirror_mode": {
    "name": "ipython",
    "version": 3
   },
   "file_extension": ".py",
   "mimetype": "text/x-python",
   "name": "python",
   "nbconvert_exporter": "python",
   "pygments_lexer": "ipython3",
   "version": "3.8.3"
  }
 },
 "nbformat": 4,
 "nbformat_minor": 4
}

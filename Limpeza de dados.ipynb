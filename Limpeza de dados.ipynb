{
 "cells": [
  {
   "cell_type": "code",
   "execution_count": 135,
   "metadata": {},
   "outputs": [],
   "source": [
    "import pandas as pd\n",
    "import string as stri "
   ]
  },
  {
   "cell_type": "code",
   "execution_count": 136,
   "metadata": {},
   "outputs": [],
   "source": [
    "df = pd.read_csv(\"Dados_desperdicio_produção.csv\",delimiter =';')"
   ]
  },
  {
   "cell_type": "code",
   "execution_count": 138,
   "metadata": {},
   "outputs": [
    {
     "data": {
      "text/html": [
       "<div>\n",
       "<style scoped>\n",
       "    .dataframe tbody tr th:only-of-type {\n",
       "        vertical-align: middle;\n",
       "    }\n",
       "\n",
       "    .dataframe tbody tr th {\n",
       "        vertical-align: top;\n",
       "    }\n",
       "\n",
       "    .dataframe thead th {\n",
       "        text-align: right;\n",
       "    }\n",
       "</style>\n",
       "<table border=\"1\" class=\"dataframe\">\n",
       "  <thead>\n",
       "    <tr style=\"text-align: right;\">\n",
       "      <th></th>\n",
       "      <th>Domain Code</th>\n",
       "      <th>Domain</th>\n",
       "      <th>Area Code</th>\n",
       "      <th>Area</th>\n",
       "      <th>Element Code</th>\n",
       "      <th>Element</th>\n",
       "      <th>Item Code</th>\n",
       "      <th>Item</th>\n",
       "      <th>Year Code</th>\n",
       "      <th>Year</th>\n",
       "      <th>Unit</th>\n",
       "      <th>Value</th>\n",
       "      <th>Flag</th>\n",
       "      <th>Flag Description</th>\n",
       "    </tr>\n",
       "  </thead>\n",
       "  <tbody>\n",
       "    <tr>\n",
       "      <th>0</th>\n",
       "      <td>FBSH</td>\n",
       "      <td>Food Balances (old methodology and population)</td>\n",
       "      <td>9</td>\n",
       "      <td>Argentina</td>\n",
       "      <td>5511</td>\n",
       "      <td>Production</td>\n",
       "      <td>2511</td>\n",
       "      <td>Wheat and products</td>\n",
       "      <td>1998</td>\n",
       "      <td>1998</td>\n",
       "      <td>1000 tonnes</td>\n",
       "      <td>12601</td>\n",
       "      <td>S</td>\n",
       "      <td>Standardized data</td>\n",
       "    </tr>\n",
       "    <tr>\n",
       "      <th>1</th>\n",
       "      <td>FBSH</td>\n",
       "      <td>Food Balances (old methodology and population)</td>\n",
       "      <td>9</td>\n",
       "      <td>Argentina</td>\n",
       "      <td>5511</td>\n",
       "      <td>Production</td>\n",
       "      <td>2511</td>\n",
       "      <td>Wheat and products</td>\n",
       "      <td>1999</td>\n",
       "      <td>1999</td>\n",
       "      <td>1000 tonnes</td>\n",
       "      <td>15479</td>\n",
       "      <td>S</td>\n",
       "      <td>Standardized data</td>\n",
       "    </tr>\n",
       "    <tr>\n",
       "      <th>2</th>\n",
       "      <td>FBSH</td>\n",
       "      <td>Food Balances (old methodology and population)</td>\n",
       "      <td>9</td>\n",
       "      <td>Argentina</td>\n",
       "      <td>5511</td>\n",
       "      <td>Production</td>\n",
       "      <td>2511</td>\n",
       "      <td>Wheat and products</td>\n",
       "      <td>2000</td>\n",
       "      <td>2000</td>\n",
       "      <td>1000 tonnes</td>\n",
       "      <td>16147</td>\n",
       "      <td>S</td>\n",
       "      <td>Standardized data</td>\n",
       "    </tr>\n",
       "    <tr>\n",
       "      <th>3</th>\n",
       "      <td>FBSH</td>\n",
       "      <td>Food Balances (old methodology and population)</td>\n",
       "      <td>9</td>\n",
       "      <td>Argentina</td>\n",
       "      <td>5511</td>\n",
       "      <td>Production</td>\n",
       "      <td>2511</td>\n",
       "      <td>Wheat and products</td>\n",
       "      <td>2001</td>\n",
       "      <td>2001</td>\n",
       "      <td>1000 tonnes</td>\n",
       "      <td>15428</td>\n",
       "      <td>S</td>\n",
       "      <td>Standardized data</td>\n",
       "    </tr>\n",
       "    <tr>\n",
       "      <th>4</th>\n",
       "      <td>FBSH</td>\n",
       "      <td>Food Balances (old methodology and population)</td>\n",
       "      <td>9</td>\n",
       "      <td>Argentina</td>\n",
       "      <td>5511</td>\n",
       "      <td>Production</td>\n",
       "      <td>2511</td>\n",
       "      <td>Wheat and products</td>\n",
       "      <td>2002</td>\n",
       "      <td>2002</td>\n",
       "      <td>1000 tonnes</td>\n",
       "      <td>12399</td>\n",
       "      <td>S</td>\n",
       "      <td>Standardized data</td>\n",
       "    </tr>\n",
       "    <tr>\n",
       "      <th>5</th>\n",
       "      <td>FBSH</td>\n",
       "      <td>Food Balances (old methodology and population)</td>\n",
       "      <td>9</td>\n",
       "      <td>Argentina</td>\n",
       "      <td>5511</td>\n",
       "      <td>Production</td>\n",
       "      <td>2511</td>\n",
       "      <td>Wheat and products</td>\n",
       "      <td>2003</td>\n",
       "      <td>2003</td>\n",
       "      <td>1000 tonnes</td>\n",
       "      <td>14710</td>\n",
       "      <td>S</td>\n",
       "      <td>Standardized data</td>\n",
       "    </tr>\n",
       "    <tr>\n",
       "      <th>6</th>\n",
       "      <td>FBSH</td>\n",
       "      <td>Food Balances (old methodology and population)</td>\n",
       "      <td>9</td>\n",
       "      <td>Argentina</td>\n",
       "      <td>5511</td>\n",
       "      <td>Production</td>\n",
       "      <td>2511</td>\n",
       "      <td>Wheat and products</td>\n",
       "      <td>2004</td>\n",
       "      <td>2004</td>\n",
       "      <td>1000 tonnes</td>\n",
       "      <td>16139</td>\n",
       "      <td>S</td>\n",
       "      <td>Standardized data</td>\n",
       "    </tr>\n",
       "    <tr>\n",
       "      <th>7</th>\n",
       "      <td>FBSH</td>\n",
       "      <td>Food Balances (old methodology and population)</td>\n",
       "      <td>9</td>\n",
       "      <td>Argentina</td>\n",
       "      <td>5511</td>\n",
       "      <td>Production</td>\n",
       "      <td>2511</td>\n",
       "      <td>Wheat and products</td>\n",
       "      <td>2005</td>\n",
       "      <td>2005</td>\n",
       "      <td>1000 tonnes</td>\n",
       "      <td>12722</td>\n",
       "      <td>S</td>\n",
       "      <td>Standardized data</td>\n",
       "    </tr>\n",
       "    <tr>\n",
       "      <th>8</th>\n",
       "      <td>FBSH</td>\n",
       "      <td>Food Balances (old methodology and population)</td>\n",
       "      <td>9</td>\n",
       "      <td>Argentina</td>\n",
       "      <td>5511</td>\n",
       "      <td>Production</td>\n",
       "      <td>2511</td>\n",
       "      <td>Wheat and products</td>\n",
       "      <td>2006</td>\n",
       "      <td>2006</td>\n",
       "      <td>1000 tonnes</td>\n",
       "      <td>14663</td>\n",
       "      <td>S</td>\n",
       "      <td>Standardized data</td>\n",
       "    </tr>\n",
       "    <tr>\n",
       "      <th>9</th>\n",
       "      <td>FBSH</td>\n",
       "      <td>Food Balances (old methodology and population)</td>\n",
       "      <td>9</td>\n",
       "      <td>Argentina</td>\n",
       "      <td>5511</td>\n",
       "      <td>Production</td>\n",
       "      <td>2511</td>\n",
       "      <td>Wheat and products</td>\n",
       "      <td>2007</td>\n",
       "      <td>2007</td>\n",
       "      <td>1000 tonnes</td>\n",
       "      <td>16487</td>\n",
       "      <td>S</td>\n",
       "      <td>Standardized data</td>\n",
       "    </tr>\n",
       "  </tbody>\n",
       "</table>\n",
       "</div>"
      ],
      "text/plain": [
       "  Domain Code                                          Domain  Area Code  \\\n",
       "0        FBSH  Food Balances (old methodology and population)          9   \n",
       "1        FBSH  Food Balances (old methodology and population)          9   \n",
       "2        FBSH  Food Balances (old methodology and population)          9   \n",
       "3        FBSH  Food Balances (old methodology and population)          9   \n",
       "4        FBSH  Food Balances (old methodology and population)          9   \n",
       "5        FBSH  Food Balances (old methodology and population)          9   \n",
       "6        FBSH  Food Balances (old methodology and population)          9   \n",
       "7        FBSH  Food Balances (old methodology and population)          9   \n",
       "8        FBSH  Food Balances (old methodology and population)          9   \n",
       "9        FBSH  Food Balances (old methodology and population)          9   \n",
       "\n",
       "        Area  Element Code     Element  Item Code                Item  \\\n",
       "0  Argentina          5511  Production       2511  Wheat and products   \n",
       "1  Argentina          5511  Production       2511  Wheat and products   \n",
       "2  Argentina          5511  Production       2511  Wheat and products   \n",
       "3  Argentina          5511  Production       2511  Wheat and products   \n",
       "4  Argentina          5511  Production       2511  Wheat and products   \n",
       "5  Argentina          5511  Production       2511  Wheat and products   \n",
       "6  Argentina          5511  Production       2511  Wheat and products   \n",
       "7  Argentina          5511  Production       2511  Wheat and products   \n",
       "8  Argentina          5511  Production       2511  Wheat and products   \n",
       "9  Argentina          5511  Production       2511  Wheat and products   \n",
       "\n",
       "   Year Code  Year         Unit  Value Flag   Flag Description  \n",
       "0       1998  1998  1000 tonnes  12601    S  Standardized data  \n",
       "1       1999  1999  1000 tonnes  15479    S  Standardized data  \n",
       "2       2000  2000  1000 tonnes  16147    S  Standardized data  \n",
       "3       2001  2001  1000 tonnes  15428    S  Standardized data  \n",
       "4       2002  2002  1000 tonnes  12399    S  Standardized data  \n",
       "5       2003  2003  1000 tonnes  14710    S  Standardized data  \n",
       "6       2004  2004  1000 tonnes  16139    S  Standardized data  \n",
       "7       2005  2005  1000 tonnes  12722    S  Standardized data  \n",
       "8       2006  2006  1000 tonnes  14663    S  Standardized data  \n",
       "9       2007  2007  1000 tonnes  16487    S  Standardized data  "
      ]
     },
     "execution_count": 138,
     "metadata": {},
     "output_type": "execute_result"
    }
   ],
   "source": [
    "df.head(10)"
   ]
  },
  {
   "cell_type": "code",
   "execution_count": 141,
   "metadata": {},
   "outputs": [],
   "source": [
    "data=[cadu for cadu in range(1998,2018)]\n",
    "ide=0\n",
    "for cadu in range(20):\n",
    "    ide+=1\n",
    "    data[cadu]=(ide,data[cadu])"
   ]
  },
  {
   "cell_type": "code",
   "execution_count": 142,
   "metadata": {},
   "outputs": [],
   "source": [
    "data_id_dict={}\n",
    "for cadu in range(len(data)):\n",
    "    data_id_dict[data[cadu][1]]=data[cadu][0]"
   ]
  },
  {
   "cell_type": "code",
   "execution_count": 143,
   "metadata": {},
   "outputs": [],
   "source": [
    "Categorias ={1: 'Frutas', 2: 'Verduras e Legumes', 3: 'Carnes',4: 'Cereais e Grãos'}\n",
    "#Categorias = [(1, 'Frutas'), (2, 'Verduras e Legumes'), (3, 'Carnes') ,(4, 'Cereais e Grãos')]"
   ]
  },
  {
   "cell_type": "code",
   "execution_count": 181,
   "metadata": {},
   "outputs": [],
   "source": [
    "Alimentos='Trigo e produtos; Arroz e produtos; Cevada e produtos; Milho e produtos; Centeio e produtos; Aveia; Sorgo e produtos; Feijão; Ervilhas; Nozes e produtos; Grãos de Soja; Amendoim (Eq sem casca); Café e produtos; Grãos de cacau e produtos; Cereais e outros; Mandioca e produtos; Batatas e produtos; Batatas doces; Inhame; Tomates e produtos; Vegetais, Outros; Laranjas e Tangerinas; Limões, limas e produtos; Toranja e produtos; Citrus e outros; Bananas; Banana da Terra; Maçãs e produtos; Abacaxis e produtos; Uvas e produtos (excluindo vinho); Frutas e outros; Carne bovina; Carne de carneiro e cabra; Carne de Porco; Carne de Aves; Carne e outros'\n",
    "alimentos=Alimentos.split(\"; \")\n",
    "alimentos_aux=Alimentos.split(\"; \")\n",
    "alimentos_dict1=Alimentos.split(\"; \")\n"
   ]
  },
  {
   "cell_type": "code",
   "execution_count": 182,
   "metadata": {},
   "outputs": [],
   "source": [
    "ide=0\n",
    "for cadu in range(15):\n",
    "    id+=1\n",
    "    alimentos[cadu]=(ide,alimentos[cadu],4)\n",
    "for cadu in range(15,21):\n",
    "    id+=1\n",
    "    alimentos[cadu]=(ide,alimentos[cadu],2)\n",
    "for cadu in range(21,31):\n",
    "    id+=1\n",
    "    alimentos[cadu]=(ide,alimentos[cadu],1)\n",
    "for cadu in range(31,len(alimentos)):\n",
    "    id+=1\n",
    "    alimentos[cadu]=(ide,alimentos[cadu],3)"
   ]
  },
  {
   "cell_type": "code",
   "execution_count": 183,
   "metadata": {},
   "outputs": [],
   "source": [
    "Item=alimentos"
   ]
  },
  {
   "cell_type": "code",
   "execution_count": 206,
   "metadata": {},
   "outputs": [],
   "source": [
    "Paises=('Argentina, Bolívia, Brasil, Chile, Colômbia, Costa Rica, Cuba, República Dominicana, Equador, El Salvador, Guatemala, Haiti, Honduras, México, Nicarágua, Panamá, Paraguai, Peru, Uruguai, Venezuela')\n",
    "paises=Paises.split(\", \")"
   ]
  },
  {
   "cell_type": "code",
   "execution_count": 207,
   "metadata": {},
   "outputs": [],
   "source": [
    "paises_id=[]\n",
    "for cadu in range(len(paises)):\n",
    "    paises_id.append((cadu+1,paises[cadu]))"
   ]
  },
  {
   "cell_type": "code",
   "execution_count": 208,
   "metadata": {},
   "outputs": [],
   "source": [
    "paises_id_dict={}\n",
    "for cadu in range(len(paises_id)):\n",
    "    paises_id_dict[paises_id[cadu][1]]=paises_id[cadu][0]\n",
    "\n"
   ]
  },
  {
   "cell_type": "code",
   "execution_count": 222,
   "metadata": {},
   "outputs": [],
   "source": [
    "dicionario_alimentos_id={}\n",
    "ide=0\n",
    "for cadu in range(len(alimentos_aux)):\n",
    "    ide+=1\n",
    "    dicionario_alimentos_id[alimentos_aux[cadu]]=ide"
   ]
  },
  {
   "cell_type": "code",
   "execution_count": 210,
   "metadata": {},
   "outputs": [],
   "source": [
    "item_ingles= [df['Item'][cadu] for cadu in range(len(df['Item']))]"
   ]
  },
  {
   "cell_type": "code",
   "execution_count": 211,
   "metadata": {},
   "outputs": [],
   "source": [
    "item_ingles1=[]\n",
    "for cadu in item_ingles: \n",
    "    if not cadu in item_ingles1:\n",
    "        item_ingles1.append(cadu)"
   ]
  },
  {
   "cell_type": "code",
   "execution_count": 212,
   "metadata": {},
   "outputs": [],
   "source": [
    "DicionarioI= {'Wheat and products':'Trigo e produtos',\n",
    "'Rice and products':'Arroz e produtos',\n",
    " 'Barley and products': 'Cevada e produtos',\n",
    " 'Maize and products': 'Milho e produtos',\n",
    " 'Rye and products': 'Centeio e produtos',\n",
    " 'Oats': 'Aveia',\n",
    " 'Sorghum and products': 'Sorgo e produtos',\n",
    " 'Cereals, Other':'Cereais e outros',\n",
    " 'Cassava and products':'Mandioca e produtos',\n",
    " 'Potatoes and products':'Batatas e produtos',\n",
    " 'Sweet potatoes': 'Batatas doces',\n",
    " 'Beans': 'Feijão',\n",
    " 'Peas':'Ervilhas',\n",
    " 'Nuts and products': 'Nozes e produtos',\n",
    " 'Soyabeans': 'Grãos de Soja',\n",
    " 'Groundnuts (Shelled Eq)': 'Amendoim (Eq sem casca)',\n",
    " 'Tomatoes and products':'Tomates e produtos',\n",
    " 'Vegetables, Other':'Vegetais, Outros',\n",
    " 'Oranges, Mandarines':'Laranjas e Tangerinas',\n",
    " 'Lemons, Limes and products':'Limões, limas e produtos',\n",
    " 'Grapefruit and products':'Toranja e produtos',\n",
    " 'Bananas': 'Bananas',\n",
    " 'Plantains': 'Banana da Terra',\n",
    " 'Apples and products':'Maçãs e produtos',\n",
    " 'Pineapples and products':'Abacaxis e produtos',\n",
    " 'Grapes and products (excl wine)': 'Uvas e produtos (excluindo vinho)',\n",
    " 'Fruits, Other':'Frutas e outros',\n",
    " 'Coffee and products': 'Café e produtos',\n",
    " 'Cocoa Beans and products': 'Grãos de cacau e produtos',\n",
    " 'Bovine Meat':'Carne bovina',\n",
    " 'Mutton & Goat Meat':'Carne de carneiro e cabra',\n",
    " 'Pigmeat':'Carne de Porco',\n",
    " 'Poultry Meat':'Carne de Aves',\n",
    " 'Meat, Other':'Carne e outros',\n",
    " 'Citrus, Other': 'Citrus e outros',\n",
    " 'Yams':'Inhame'}"
   ]
  },
  {
   "cell_type": "code",
   "execution_count": 215,
   "metadata": {},
   "outputs": [],
   "source": [
    "DicionarioP = {'Argentina':'Argentina','Bolivia (Plurinational State of)':'Bolívia','Brazil':'Brasil','Chile':'Chile','Colombia':'Colômbia','Costa Rica':'Costa Rica','Cuba':'Cuba','Dominican Republic':'República Dominicana','Ecuador':'Equador','El Salvador':'El Salvador','Guatemala':'Guatemala','Haiti':'Haiti','Honduras':'Honduras','Mexico':'México','Nicaragua':'Nicarágua','Panama':'Panamá','Paraguay':'Paraguai','Peru':'Peru','Uruguay':'Uruguai','Venezuela (Bolivarian Republic of)':'Venezuela'}"
   ]
  },
  {
   "cell_type": "code",
   "execution_count": 223,
   "metadata": {},
   "outputs": [],
   "source": [
    "ide=0\n",
    "item_pais=[]\n",
    "for cadu in range(len(df)):\n",
    "    ide+=1\n",
    "    item_pais.append((ide, dicionario_alimentos_id[DicionarioI[df.Item[cadu]]],paises_id_dict[DicionarioP[df.Area[cadu]]])) \n"
   ]
  },
  {
   "cell_type": "code",
   "execution_count": 226,
   "metadata": {},
   "outputs": [
    {
     "ename": "TypeError",
     "evalue": "not all arguments converted during string formatting",
     "output_type": "error",
     "traceback": [
      "\u001b[1;31m---------------------------------------------------------------------------\u001b[0m",
      "\u001b[1;31mTypeError\u001b[0m                                 Traceback (most recent call last)",
      "\u001b[1;32m<ipython-input-226-e3628426f4de>\u001b[0m in \u001b[0;36m<module>\u001b[1;34m\u001b[0m\n\u001b[0;32m      1\u001b[0m \u001b[1;32mwith\u001b[0m \u001b[0mopen\u001b[0m\u001b[1;33m(\u001b[0m\u001b[1;34m'your_file.txt'\u001b[0m\u001b[1;33m,\u001b[0m \u001b[1;34m'w'\u001b[0m\u001b[1;33m)\u001b[0m \u001b[1;32mas\u001b[0m \u001b[0mf\u001b[0m\u001b[1;33m:\u001b[0m\u001b[1;33m\u001b[0m\u001b[1;33m\u001b[0m\u001b[0m\n\u001b[0;32m      2\u001b[0m     \u001b[1;32mfor\u001b[0m \u001b[0mitem\u001b[0m \u001b[1;32min\u001b[0m \u001b[0mitem_pais\u001b[0m\u001b[1;33m:\u001b[0m\u001b[1;33m\u001b[0m\u001b[1;33m\u001b[0m\u001b[0m\n\u001b[1;32m----> 3\u001b[1;33m         \u001b[0mf\u001b[0m\u001b[1;33m.\u001b[0m\u001b[0mwrite\u001b[0m\u001b[1;33m(\u001b[0m\u001b[1;34m\"%s\\n\"\u001b[0m \u001b[1;33m%\u001b[0m \u001b[0mitem\u001b[0m\u001b[1;33m)\u001b[0m\u001b[1;33m\u001b[0m\u001b[1;33m\u001b[0m\u001b[0m\n\u001b[0m\u001b[0;32m      4\u001b[0m \u001b[1;33m\u001b[0m\u001b[0m\n",
      "\u001b[1;31mTypeError\u001b[0m: not all arguments converted during string formatting"
     ]
    }
   ],
   "source": [
    "with open('your_file.txt', 'w') as f:\n",
    "    for item in item_pais:\n",
    "        f.write(\"%s\\n\" % item)\n",
    "        "
   ]
  },
  {
   "cell_type": "code",
   "execution_count": 118,
   "metadata": {},
   "outputs": [],
   "source": [
    "data_perda=[]\n",
    "ide=0\n",
    "for cadu in range(len(df)):\n",
    "    if df['Element'][cadu] == 'Losses':\n",
    "        ide+=1\n",
    "        data_perda.append((ide, data_id_dict[df['Year Code'][cadu]] ))"
   ]
  },
  {
   "cell_type": "code",
   "execution_count": 129,
   "metadata": {},
   "outputs": [
    {
     "data": {
      "text/plain": [
       "[(1, 'Trigo e produtos', 4),\n",
       " (2, 'Arroz e produtos', 4),\n",
       " (3, 'Cevada e produtos', 4),\n",
       " (4, 'Milho e produtos', 4),\n",
       " (5, 'Centeio e produtos', 4),\n",
       " (6, 'Aveia', 4),\n",
       " (7, 'Sorgo e produtos', 4),\n",
       " (8, 'Feijão', 4),\n",
       " (9, 'Ervilhas', 4),\n",
       " (10, 'Nozes e produtos', 4),\n",
       " (11, 'Grãos de Soja', 4),\n",
       " (12, 'Amendoim (Eq sem casca)', 4),\n",
       " (13, 'Café e produtos', 4),\n",
       " (14, 'Grãos de cacau e produtos', 4),\n",
       " (15, 'Cereais e outros', 4),\n",
       " (16, 'Mandioca e produtos', 2),\n",
       " (17, 'Batatas e produtos', 2),\n",
       " (18, 'Batatas doces', 2),\n",
       " (19, 'Inhame', 2),\n",
       " (20, 'Tomates e produtos', 2),\n",
       " (21, 'Legumes e outros', 2),\n",
       " (22, 'Laranjas e Tangerinas', 1),\n",
       " (23, 'Limões, limas e produtos', 1),\n",
       " (24, 'Toranja e produtos', 1),\n",
       " (25, 'Citrus e outros', 1),\n",
       " (26, 'Bananas', 1),\n",
       " (27, 'Banana da Terra', 1),\n",
       " (28, 'Maçãs e produtos', 1),\n",
       " (29, 'Abacaxi e produtos', 1),\n",
       " (30, 'Uvas e produtos (excluindo vinho)', 1),\n",
       " (31, 'Frutas e outros', 1),\n",
       " (32, 'Carne bovina', 3),\n",
       " (33, 'Carne de carneiro e cabra', 3),\n",
       " (34, 'Carne de Porco', 3),\n",
       " (35, 'Carne de Aves', 3),\n",
       " (36, 'Carne e outros', 3)]"
      ]
     },
     "execution_count": 129,
     "metadata": {},
     "output_type": "execute_result"
    }
   ],
   "source": [
    "Item"
   ]
  },
  {
   "cell_type": "code",
   "execution_count": 133,
   "metadata": {},
   "outputs": [
    {
     "data": {
      "text/plain": [
       "36"
      ]
     },
     "execution_count": 133,
     "metadata": {},
     "output_type": "execute_result"
    }
   ],
   "source": [
    "len(Dicionario)"
   ]
  },
  {
   "cell_type": "code",
   "execution_count": 139,
   "metadata": {},
   "outputs": [
    {
     "data": {
      "text/plain": [
       "21214"
      ]
     },
     "execution_count": 139,
     "metadata": {},
     "output_type": "execute_result"
    }
   ],
   "source": [
    "len(df)"
   ]
  },
  {
   "cell_type": "code",
   "execution_count": 158,
   "metadata": {},
   "outputs": [
    {
     "data": {
      "text/plain": [
       "'Trigo e produtos; Arroz e produtos; Cevada e produtos; Milho e produtos; Centeio e produtos; Aveia; Sorgo e produtos; Feijão; Ervilhas; Nozes e produtos; Grãos de Soja; Amendoim (Eq sem casca); Café e produtos; Grãos de cacau e produtos; Cereais e outros; Mandioca e produtos; Batatas e produtos; Batatas doces; Inhame; Tomates e produtos; Legumes e outros; Laranjas e Tangerinas; Limões, limas e produtos; Toranja e produtos; Citrus e outros; Bananas; Banana da Terra; Maçãs e produtos; Abacaxi e produtos; Uvas e produtos (excluindo vinho); Frutas e outros; Carne bovina; Carne de carneiro e cabra; Carne de Porco; Carne de Aves; Carne e outros'"
      ]
     },
     "execution_count": 158,
     "metadata": {},
     "output_type": "execute_result"
    }
   ],
   "source": [
    "Alimentos"
   ]
  },
  {
   "cell_type": "code",
   "execution_count": 161,
   "metadata": {},
   "outputs": [],
   "source": [
    "\n",
    "for cadu in range(36):\n",
    "    if alimentos_aux[cadu] =='Vegetais, Outros':\n",
    "        print (alimentos_aux[cadu])\n"
   ]
  },
  {
   "cell_type": "code",
   "execution_count": 162,
   "metadata": {},
   "outputs": [
    {
     "data": {
      "text/plain": [
       "['Trigo e produtos',\n",
       " 'Arroz e produtos',\n",
       " 'Cevada e produtos',\n",
       " 'Milho e produtos',\n",
       " 'Centeio e produtos',\n",
       " 'Aveia',\n",
       " 'Sorgo e produtos',\n",
       " 'Feijão',\n",
       " 'Ervilhas',\n",
       " 'Nozes e produtos',\n",
       " 'Grãos de Soja',\n",
       " 'Amendoim (Eq sem casca)',\n",
       " 'Café e produtos',\n",
       " 'Grãos de cacau e produtos',\n",
       " 'Cereais e outros',\n",
       " 'Mandioca e produtos',\n",
       " 'Batatas e produtos',\n",
       " 'Batatas doces',\n",
       " 'Inhame',\n",
       " 'Tomates e produtos',\n",
       " 'Legumes e outros',\n",
       " 'Laranjas e Tangerinas',\n",
       " 'Limões, limas e produtos',\n",
       " 'Toranja e produtos',\n",
       " 'Citrus e outros',\n",
       " 'Bananas',\n",
       " 'Banana da Terra',\n",
       " 'Maçãs e produtos',\n",
       " 'Abacaxi e produtos',\n",
       " 'Uvas e produtos (excluindo vinho)',\n",
       " 'Frutas e outros',\n",
       " 'Carne bovina',\n",
       " 'Carne de carneiro e cabra',\n",
       " 'Carne de Porco',\n",
       " 'Carne de Aves',\n",
       " 'Carne e outros']"
      ]
     },
     "execution_count": 162,
     "metadata": {},
     "output_type": "execute_result"
    }
   ],
   "source": [
    "alimentos_aux"
   ]
  },
  {
   "cell_type": "code",
   "execution_count": 221,
   "metadata": {},
   "outputs": [
    {
     "data": {
      "text/plain": [
       "{'Trigo e produtos': 0,\n",
       " 'Arroz e produtos': 0,\n",
       " 'Cevada e produtos': 0,\n",
       " 'Milho e produtos': 0,\n",
       " 'Centeio e produtos': 0,\n",
       " 'Aveia': 0,\n",
       " 'Sorgo e produtos': 0,\n",
       " 'Feijão': 0,\n",
       " 'Ervilhas': 0,\n",
       " 'Nozes e produtos': 0,\n",
       " 'Grãos de Soja': 0,\n",
       " 'Amendoim (Eq sem casca)': 0,\n",
       " 'Café e produtos': 0,\n",
       " 'Grãos de cacau e produtos': 0,\n",
       " 'Cereais e outros': 0,\n",
       " 'Mandioca e produtos': 0,\n",
       " 'Batatas e produtos': 0,\n",
       " 'Batatas doces': 0,\n",
       " 'Inhame': 0,\n",
       " 'Tomates e produtos': 0,\n",
       " 'Vegetais, Outros': 0,\n",
       " 'Laranjas e Tangerinas': 0,\n",
       " 'Limões, limas e produtos': 0,\n",
       " 'Toranja e produtos': 0,\n",
       " 'Citrus e outros': 0,\n",
       " 'Bananas': 0,\n",
       " 'Banana da Terra': 0,\n",
       " 'Maçãs e produtos': 0,\n",
       " 'Abacaxis e produtos': 0,\n",
       " 'Uvas e produtos (excluindo vinho)': 0,\n",
       " 'Frutas e outros': 0,\n",
       " 'Carne bovina': 0,\n",
       " 'Carne de carneiro e cabra': 0,\n",
       " 'Carne de Porco': 0,\n",
       " 'Carne de Aves': 0,\n",
       " 'Carne e outros': 0}"
      ]
     },
     "execution_count": 221,
     "metadata": {},
     "output_type": "execute_result"
    }
   ],
   "source": [
    "dicionario_alimentos_id"
   ]
  },
  {
   "cell_type": "code",
   "execution_count": null,
   "metadata": {},
   "outputs": [],
   "source": []
  }
 ],
 "metadata": {
  "kernelspec": {
   "display_name": "Python 3",
   "language": "python",
   "name": "python3"
  },
  "language_info": {
   "codemirror_mode": {
    "name": "ipython",
    "version": 3
   },
   "file_extension": ".py",
   "mimetype": "text/x-python",
   "name": "python",
   "nbconvert_exporter": "python",
   "pygments_lexer": "ipython3",
   "version": "3.8.3"
  }
 },
 "nbformat": 4,
 "nbformat_minor": 4
}
